{
 "cells": [
  {
   "cell_type": "code",
   "execution_count": null,
   "metadata": {
    "collapsed": true,
    "id": "pO5GCaOQ8DFK"
   },
   "outputs": [],
   "source": [
    "### Creating model and layers\n",
    "model = Sequential();\n",
    "# Step 1 - Convolution\n",
    "model.add(Conv2D(64,(3,3),input_shape=(64,64,3),activation='relu'))\n",
    "# 64 - no.of filters\n",
    "# Step 2 - Pooling\n",
    "model.add(MaxPooling2D(pool_size=(2,2)))\n",
    "# Step 1 - Convolution\n",
    "model.add(Conv2D(128,(3,3),activation='relu'))\n",
    "# Step 2 - Pooling\n",
    "model.add(MaxPooling2D(pool_size=(2,2)))\n",
    "# Step 3 - Flattening\n",
    "model.add(Flatten())\n",
    "### Hidden and output\n",
    "# Step 4 - Full connection\n",
    "model.add(Dense(128, activation='relu'))    ### hidden layer\n",
    "model.add(Dense(1, activation='sigmoid'))   ## output layer"
   ]
  },
  {
   "cell_type": "code",
   "execution_count": null,
   "metadata": {
    "id": "xJTPN6x38W2t"
   },
   "outputs": [],
   "source": [
    "# Compiling the CNN\n",
    "model.compile(optimizer ='adam',loss='binary_crossentropy',metrics=['accuracy'])"
   ]
  },
  {
   "cell_type": "code",
   "execution_count": null,
   "metadata": {
    "id": "q_ymE89e8YT0"
   },
   "outputs": [],
   "source": [
    "### Preprocessing of image\n",
    "#https://keras.io/api/preprocessing/image/#imagedatagenerator-class\n",
    "from keras.preprocessing.image import ImageDataGenerator\n",
    "\n",
    "train_datagen = ImageDataGenerator(rescale = 1./255,\n",
    "                                   shear_range = 0.2,\n",
    "                                   zoom_range = 0.2,\n",
    "                                   horizontal_flip = True)\n",
    "test_datagen = ImageDataGenerator(rescale = 1./255,\n",
    "                                  shear_range = 0.2,\n",
    "                                   zoom_range = 0.2,\n",
    "                                   horizontal_flip = True)"
   ]
  },
  {
   "cell_type": "code",
   "execution_count": null,
   "metadata": {
    "id": "Eap2uuo68brx"
   },
   "outputs": [],
   "source": [
    "training_set = train_datagen.flow_from_directory('/content/dataset_new/training_set',\n",
    "                                                 target_size = (64, 64),\n",
    "                                                 batch_size = 32,\n",
    "                                                 class_mode = 'binary')"
   ]
  },
  {
   "cell_type": "code",
   "execution_count": null,
   "metadata": {
    "id": "eJDQcDDZ8e3B"
   },
   "outputs": [],
   "source": [
    "test_set = test_datagen.flow_from_directory('/content/dataset_new/test_set',\n",
    "                                            target_size = (64, 64),\n",
    "                                            batch_size = 32,\n",
    "                                            class_mode = 'binary')"
   ]
  },
  {
   "cell_type": "code",
   "execution_count": null,
   "metadata": {
    "id": "equMKTHq8m1u"
   },
   "outputs": [],
   "source": [
    "### Train the model\n",
    "model.fit_generator(training_set,\n",
    "                         steps_per_epoch = 60,\n",
    "                         epochs = 100,\n",
    "                         validation_data = test_set,\n",
    "                         validation_steps = 15)"
   ]
  }
 ],
 "metadata": {
  "colab": {
   "authorship_tag": "ABX9TyOBCeDnl7xu6CMjlZ7ONjex",
   "provenance": [
    {
     "file_id": "1WcwftYQH4Z8vvjw55g_YIYjhXdYIBPXV",
     "timestamp": 1756541003942
    }
   ]
  },
  "kernelspec": {
   "display_name": "Python 3",
   "name": "python3"
  },
  "language_info": {
   "name": "python"
  }
 },
 "nbformat": 4,
 "nbformat_minor": 0
}
